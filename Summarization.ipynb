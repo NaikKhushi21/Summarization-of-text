{
 "cells": [
  {
   "cell_type": "code",
   "execution_count": 160,
   "id": "547d05b6",
   "metadata": {},
   "outputs": [
    {
     "name": "stdout",
     "output_type": "stream",
     "text": [
      "Looking in indexes: https://pypi.org/simple, https://download.pytorch.org/whl/lts/1.8/cpu\n",
      "Requirement already satisfied: torch==1.8.2 in c:\\users\\khushi\\anaconda3\\lib\\site-packages (1.8.2+cpu)\n",
      "Requirement already satisfied: torchvision==0.9.2 in c:\\users\\khushi\\anaconda3\\lib\\site-packages (0.9.2+cpu)\n",
      "Requirement already satisfied: torchaudio===0.8.2 in c:\\users\\khushi\\anaconda3\\lib\\site-packages (0.8.2)\n",
      "Requirement already satisfied: typing-extensions in c:\\users\\khushi\\anaconda3\\lib\\site-packages (from torch==1.8.2) (3.10.0.2)\n",
      "Requirement already satisfied: numpy in c:\\users\\khushi\\anaconda3\\lib\\site-packages (from torch==1.8.2) (1.22.3)\n",
      "Requirement already satisfied: pillow>=4.1.1 in c:\\users\\khushi\\anaconda3\\lib\\site-packages (from torchvision==0.9.2) (8.4.0)\n"
     ]
    }
   ],
   "source": [
    "!pip3 install torch==1.8.2 torchvision==0.9.2 torchaudio===0.8.2 --extra-index-url https://download.pytorch.org/whl/lts/1.8/cpu"
   ]
  },
  {
   "cell_type": "code",
   "execution_count": 161,
   "id": "0a4e00b9",
   "metadata": {},
   "outputs": [
    {
     "name": "stdout",
     "output_type": "stream",
     "text": [
      "Looking in indexes: https://pypi.org/simple, https://download.pytorch.org/whl/lts/1.8/cu111\n",
      "Requirement already satisfied: torch==1.8.2 in c:\\users\\khushi\\anaconda3\\lib\\site-packages (1.8.2+cpu)\n",
      "Requirement already satisfied: torchvision==0.9.2 in c:\\users\\khushi\\anaconda3\\lib\\site-packages (0.9.2+cpu)\n",
      "Requirement already satisfied: torchaudio===0.8.2 in c:\\users\\khushi\\anaconda3\\lib\\site-packages (0.8.2)\n",
      "Requirement already satisfied: numpy in c:\\users\\khushi\\anaconda3\\lib\\site-packages (from torch==1.8.2) (1.22.3)\n",
      "Requirement already satisfied: typing-extensions in c:\\users\\khushi\\anaconda3\\lib\\site-packages (from torch==1.8.2) (3.10.0.2)\n",
      "Requirement already satisfied: pillow>=4.1.1 in c:\\users\\khushi\\anaconda3\\lib\\site-packages (from torchvision==0.9.2) (8.4.0)\n"
     ]
    }
   ],
   "source": [
    "!pip3 install torch==1.8.2 torchvision==0.9.2 torchaudio===0.8.2 --extra-index-url https://download.pytorch.org/whl/lts/1.8/cu111"
   ]
  },
  {
   "cell_type": "code",
   "execution_count": 162,
   "id": "04599358",
   "metadata": {},
   "outputs": [
    {
     "name": "stdout",
     "output_type": "stream",
     "text": [
      "Requirement already satisfied: transformers in c:\\users\\khushi\\anaconda3\\lib\\site-packages (4.22.2)\n",
      "Requirement already satisfied: tokenizers!=0.11.3,<0.13,>=0.11.1 in c:\\users\\khushi\\anaconda3\\lib\\site-packages (from transformers) (0.12.1)\n",
      "Requirement already satisfied: filelock in c:\\users\\khushi\\anaconda3\\lib\\site-packages (from transformers) (3.3.1)\n",
      "Requirement already satisfied: requests in c:\\users\\khushi\\anaconda3\\lib\\site-packages (from transformers) (2.26.0)\n",
      "Requirement already satisfied: packaging>=20.0 in c:\\users\\khushi\\anaconda3\\lib\\site-packages (from transformers) (21.0)\n",
      "Requirement already satisfied: huggingface-hub<1.0,>=0.9.0 in c:\\users\\khushi\\anaconda3\\lib\\site-packages (from transformers) (0.10.0)\n",
      "Requirement already satisfied: tqdm>=4.27 in c:\\users\\khushi\\anaconda3\\lib\\site-packages (from transformers) (4.62.3)\n",
      "Requirement already satisfied: pyyaml>=5.1 in c:\\users\\khushi\\anaconda3\\lib\\site-packages (from transformers) (6.0)\n",
      "Requirement already satisfied: regex!=2019.12.17 in c:\\users\\khushi\\anaconda3\\lib\\site-packages (from transformers) (2021.8.3)\n",
      "Requirement already satisfied: numpy>=1.17 in c:\\users\\khushi\\anaconda3\\lib\\site-packages (from transformers) (1.22.3)\n",
      "Requirement already satisfied: typing-extensions>=3.7.4.3 in c:\\users\\khushi\\anaconda3\\lib\\site-packages (from huggingface-hub<1.0,>=0.9.0->transformers) (3.10.0.2)\n",
      "Requirement already satisfied: pyparsing>=2.0.2 in c:\\users\\khushi\\anaconda3\\lib\\site-packages (from packaging>=20.0->transformers) (3.0.4)\n",
      "Requirement already satisfied: colorama in c:\\users\\khushi\\anaconda3\\lib\\site-packages (from tqdm>=4.27->transformers) (0.4.4)\n",
      "Requirement already satisfied: urllib3<1.27,>=1.21.1 in c:\\users\\khushi\\anaconda3\\lib\\site-packages (from requests->transformers) (1.26.7)\n",
      "Requirement already satisfied: idna<4,>=2.5 in c:\\users\\khushi\\anaconda3\\lib\\site-packages (from requests->transformers) (3.2)\n",
      "Requirement already satisfied: charset-normalizer~=2.0.0 in c:\\users\\khushi\\anaconda3\\lib\\site-packages (from requests->transformers) (2.0.4)\n",
      "Requirement already satisfied: certifi>=2017.4.17 in c:\\users\\khushi\\anaconda3\\lib\\site-packages (from requests->transformers) (2021.10.8)\n"
     ]
    }
   ],
   "source": [
    "#installing transformers\n",
    "!pip install transformers"
   ]
  },
  {
   "cell_type": "code",
   "execution_count": 163,
   "id": "1bcd8782",
   "metadata": {},
   "outputs": [],
   "source": [
    "#from transformers import PegasusForConditionalGeneration, PegasusTokenizer, AutoTokenizer\n",
    "#mname = \"google/pegasus-xsum\"\n",
    "#loaded_model = PegasusForConditionalGeneration.from_pretrained(mname)"
   ]
  },
  {
   "cell_type": "code",
   "execution_count": 164,
   "id": "087bd198",
   "metadata": {},
   "outputs": [],
   "source": [
    "#importing dependencies\n",
    "from transformers import BartForConditionalGeneration, BartTokenizer, AutoTokenizer"
   ]
  },
  {
   "cell_type": "code",
   "execution_count": 165,
   "id": "eaf25792",
   "metadata": {},
   "outputs": [],
   "source": [
    "import torch"
   ]
  },
  {
   "cell_type": "code",
   "execution_count": 166,
   "id": "99037f99",
   "metadata": {},
   "outputs": [
    {
     "name": "stdout",
     "output_type": "stream",
     "text": [
      "Requirement already satisfied: sentencepiece in c:\\users\\khushi\\anaconda3\\lib\\site-packages (0.1.97)\n"
     ]
    }
   ],
   "source": [
    "!pip install sentencepiece"
   ]
  },
  {
   "cell_type": "code",
   "execution_count": 167,
   "id": "f731e392",
   "metadata": {},
   "outputs": [],
   "source": [
    "mname = \"sshleifer/distilbart-cnn-12-6\""
   ]
  },
  {
   "cell_type": "code",
   "execution_count": 168,
   "id": "199ba228",
   "metadata": {},
   "outputs": [],
   "source": [
    "tokenizer_model = AutoTokenizer.from_pretrained(mname)"
   ]
  },
  {
   "cell_type": "code",
   "execution_count": 169,
   "id": "4ee8c0a1",
   "metadata": {},
   "outputs": [],
   "source": [
    "loaded_model = BartForConditionalGeneration.from_pretrained(mname)"
   ]
  },
  {
   "cell_type": "code",
   "execution_count": 260,
   "id": "ed7d9353",
   "metadata": {},
   "outputs": [
    {
     "name": "stderr",
     "output_type": "stream",
     "text": [
      "unknown widths : \n",
      "[0, IndirectObject(4185, 0, 2014662427744)]\n",
      "unknown widths : \n",
      "[0, IndirectObject(4171, 0, 2014662427744)]\n",
      "unknown widths : \n",
      "[0, IndirectObject(4227, 0, 2014662427744)]\n",
      "unknown widths : \n",
      "[0, IndirectObject(4096, 0, 2014662427744)]\n",
      "unknown widths : \n",
      "[0, IndirectObject(4132, 0, 2014662427744)]\n",
      "unknown widths : \n",
      "[0, IndirectObject(4464, 0, 2014662427744)]\n",
      "unknown widths : \n",
      "[0, IndirectObject(4142, 0, 2014662427744)]\n",
      "unknown widths : \n",
      "[0, IndirectObject(4109, 0, 2014662427744)]\n",
      "unknown widths : \n",
      "[0, IndirectObject(4127, 0, 2014662427744)]\n"
     ]
    },
    {
     "name": "stdout",
     "output_type": "stream",
     "text": [
      "592\n",
      "(a) Sampled above Nyquist rate and reconstructed by (b) sampled below Nyquist rate and reconstructed by \n",
      "z9H; ZOH; \n",
      "(c) lowpass filtered before subsampling and recon- (d) lowpass filtered before subsampling and recon-\n",
      "structed by ZOH; structed by FOH. \n",
      "Figure 4.8 Image sampling, aliasing, and reconstruc tion. \n",
      "which is equal to f(x, y) if Lix, Liy satisfy (4.10). We can summarize the preceding results by the following theorem. \n",
      "Sampling Theorem \n",
      "A bandlimited imagef(x, y) satisfying (4.4) and sampled uniformly on a rectangular grid with spacing Lix, Liy can be recovered without error from the sample values f(mLix, nLiy) provided the sampling rate is greater than the Nyquist rate, that is, \n",
      "88 Image Sampling and Quantization Chap. 4 \n"
     ]
    }
   ],
   "source": [
    "import PyPDF2\n",
    "\n",
    "pdfFileObj = open('Fundamentals of Digital Image Processing ( PDFDrive ).pdf', 'rb')\n",
    "\n",
    "pdfReader = PyPDF2.PdfFileReader(pdfFileObj)\n",
    "\n",
    "# printing number of pages in pdf file\n",
    "print(pdfReader.numPages)\n",
    "\n",
    "# creating a page object\n",
    "pageObj = pdfReader.getPage(125-15)\n",
    "\n",
    "# extracting text from page\n",
    "extracted = pageObj.extractText()\n",
    "print(extracted)\n",
    "\n",
    "# closing the pdf file object\n",
    "pdfFileObj.close()"
   ]
  },
  {
   "cell_type": "code",
   "execution_count": 259,
   "id": "968caa5b",
   "metadata": {},
   "outputs": [
    {
     "name": "stdout",
     "output_type": "stream",
     "text": [
      " Image analysis techniques require extraction of certain features that aid in the identification of the object. Segmentation techniques are used to isolate the desired object from the scene so that measurements can be made on it subsequently.\n"
     ]
    }
   ],
   "source": [
    "#convert this to token\n",
    "#create tokens - number representation of text\n",
    "#tokens = tokenizer_model(extracted, truncation=True, padding=\"longest\", return_tensors=\"pt\")\n",
    "from transformers import BartConfig\n",
    "inputs = tokenizer_model(extracted, truncation=True, return_tensors='pt')\n",
    "summary_ids = loaded_model.generate(inputs['input_ids'], num_beams=4, early_stopping=True, min_length=0, max_length=2048)\n",
    "summarized_text = ([tokenizer_model.decode(g, skip_special_tokens=True, clean_up_tokenization_spaces=True) for g in summary_ids])\n",
    "print(summarized_text[0])"
   ]
  },
  {
   "cell_type": "code",
   "execution_count": null,
   "id": "261f6c02",
   "metadata": {},
   "outputs": [],
   "source": [
    "#tokens"
   ]
  },
  {
   "cell_type": "code",
   "execution_count": null,
   "id": "08291c34",
   "metadata": {},
   "outputs": [],
   "source": [
    "#summerize\n",
    "#summary = loaded_model.generate(**tokens)"
   ]
  },
  {
   "cell_type": "code",
   "execution_count": null,
   "id": "efe193dd",
   "metadata": {},
   "outputs": [],
   "source": [
    "#summary[0]"
   ]
  },
  {
   "cell_type": "code",
   "execution_count": 223,
   "id": "3f8bb906",
   "metadata": {},
   "outputs": [
    {
     "data": {
      "text/plain": [
       "'</s><s> Researchers at Dalhousie University, Canada, studied neural networks and genetic algorithms. Foundations include: \"Fuzzy control of an on-line fuzzy controller for the dynamic activated sludge process\" and \"Intelligent operation support system\" Researchers: \"Real time control of wastewater treatment plant operations\"</s>'"
      ]
     },
     "execution_count": 223,
     "metadata": {},
     "output_type": "execute_result"
    }
   ],
   "source": [
    "#tokenizer_model.decode(summary[0])"
   ]
  },
  {
   "cell_type": "code",
   "execution_count": null,
   "id": "515bf21e",
   "metadata": {},
   "outputs": [],
   "source": []
  }
 ],
 "metadata": {
  "kernelspec": {
   "display_name": "Python 3 (ipykernel)",
   "language": "python",
   "name": "python3"
  },
  "language_info": {
   "codemirror_mode": {
    "name": "ipython",
    "version": 3
   },
   "file_extension": ".py",
   "mimetype": "text/x-python",
   "name": "python",
   "nbconvert_exporter": "python",
   "pygments_lexer": "ipython3",
   "version": "3.9.7"
  }
 },
 "nbformat": 4,
 "nbformat_minor": 5
}
